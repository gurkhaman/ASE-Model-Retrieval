{
 "cells": [
  {
   "cell_type": "code",
   "execution_count": 7,
   "metadata": {},
   "outputs": [],
   "source": [
    "import torch\n",
    "from transformers import CLIPModel, AutoTokenizer, AutoProcessor\n",
    "import os\n",
    "from sklearn.cluster import KMeans\n",
    "from PIL import Image\n",
    "import numpy as np\n",
    "from datasets import load_from_disk"
   ]
  },
  {
   "cell_type": "code",
   "execution_count": 6,
   "metadata": {},
   "outputs": [],
   "source": [
    "DEVICE = \"cuda\" if torch.cuda.is_available() else \"cpu\"\n",
    "MODEL = CLIPModel.from_pretrained(\"openai/clip-vit-large-patch14\").to(DEVICE)\n",
    "TOKENIZER = AutoTokenizer.from_pretrained(\"openai/clip-vit-large-patch14\")\n",
    "PROCESSOR = AutoProcessor.from_pretrained(\"openai/clip-vit-large-patch14\")\n",
    "\n",
    "HF_DATASET_DIR = \"/workspaces/ASE-Model-Retrieval/data/imagenet/.cache/hf_datasets\"\n",
    "OUTPUT_DIR = \"/workspaces/ASE-Model-Retrieval/models/.cache/task_embeddings\""
   ]
  },
  {
   "cell_type": "code",
   "execution_count": 12,
   "metadata": {},
   "outputs": [
    {
     "data": {
      "text/plain": [
       "['Appenzeller',\n",
       " 'Ibizan_hound',\n",
       " 'Scottish_deerhound',\n",
       " 'West_Highland_white_terrier',\n",
       " 'baseball']"
      ]
     },
     "execution_count": 12,
     "metadata": {},
     "output_type": "execute_result"
    }
   ],
   "source": [
    "hf_datasets = load_from_disk(HF_DATASET_DIR)\n",
    "dataset_name = list(hf_datasets.keys())[0]  # Select first dataset\n",
    "dataset = hf_datasets[dataset_name]\n",
    "unique_labels = sorted(set(dataset[\"label\"]))\n",
    "unique_labels"
   ]
  },
  {
   "cell_type": "code",
   "execution_count": 15,
   "metadata": {},
   "outputs": [
    {
     "data": {
      "text/plain": [
       "(768,)"
      ]
     },
     "execution_count": 15,
     "metadata": {},
     "output_type": "execute_result"
    }
   ],
   "source": [
    "text_inputs = TOKENIZER(\n",
    "    [f\"photos of {', '.join(unique_labels[:5])}.\"], padding=True, return_tensors=\"pt\"\n",
    ").to(DEVICE)\n",
    "with torch.no_grad():\n",
    "    text_features = MODEL.get_text_features(**text_inputs)\n",
    "text_features /= text_features.norm(dim=-1, keepdim=True)\n",
    "text_features = text_features.cpu().numpy()[0]\n",
    "text_features.shape"
   ]
  },
  {
   "cell_type": "code",
   "execution_count": 19,
   "metadata": {},
   "outputs": [
    {
     "data": {
      "text/plain": [
       "(250, 768)"
      ]
     },
     "execution_count": 19,
     "metadata": {},
     "output_type": "execute_result"
    }
   ],
   "source": [
    "def preprocess_image(image_path):\n",
    "    image = Image.open(image_path).convert(\"RGB\")\n",
    "    inputs = PROCESSOR(images=image, return_tensors=\"pt\").to(DEVICE)\n",
    "    return inputs\n",
    "\n",
    "image_features_list = []\n",
    "image_paths = dataset[\"image\"]\n",
    "\n",
    "for image_path in image_paths:\n",
    "    image_inputs = preprocess_image(image_path)\n",
    "    with torch.no_grad():\n",
    "        image_features = MODEL.get_image_features(**image_inputs)\n",
    "    image_features /= image_features.norm(dim=-1, keepdim=True)  # Normalize\n",
    "    image_features_list.append(image_features.cpu().numpy())\n",
    "\n",
    "image_features = np.vstack(image_features_list)\n",
    "image_features.shape"
   ]
  },
  {
   "cell_type": "code",
   "execution_count": 20,
   "metadata": {},
   "outputs": [],
   "source": [
    "def compute_task_meta_features(features):\n",
    "    n_splits = 5\n",
    "    feature_splits = np.array_split(features, n_splits)\n",
    "\n",
    "    cluster_features = np.concatenate([\n",
    "        KMeans(n_clusters=1, random_state=42).fit(split).cluster_centers_[0]\n",
    "        for split in feature_splits\n",
    "    ])\n",
    "    return cluster_features"
   ]
  },
  {
   "cell_type": "code",
   "execution_count": 21,
   "metadata": {},
   "outputs": [
    {
     "data": {
      "text/plain": [
       "(3840,)"
      ]
     },
     "execution_count": 21,
     "metadata": {},
     "output_type": "execute_result"
    }
   ],
   "source": [
    "task_meta_features = compute_task_meta_features(image_features)\n",
    "task_meta_features.shape"
   ]
  }
 ],
 "metadata": {
  "kernelspec": {
   "display_name": "base",
   "language": "python",
   "name": "python3"
  },
  "language_info": {
   "codemirror_mode": {
    "name": "ipython",
    "version": 3
   },
   "file_extension": ".py",
   "mimetype": "text/x-python",
   "name": "python",
   "nbconvert_exporter": "python",
   "pygments_lexer": "ipython3",
   "version": "3.11.11"
  }
 },
 "nbformat": 4,
 "nbformat_minor": 2
}
