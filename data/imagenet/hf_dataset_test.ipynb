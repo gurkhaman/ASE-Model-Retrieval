{
 "cells": [
  {
   "cell_type": "code",
   "execution_count": 2,
   "metadata": {},
   "outputs": [
    {
     "name": "stderr",
     "output_type": "stream",
     "text": [
      "/opt/conda/lib/python3.11/site-packages/tqdm/auto.py:21: TqdmWarning: IProgress not found. Please update jupyter and ipywidgets. See https://ipywidgets.readthedocs.io/en/stable/user_install.html\n",
      "  from .autonotebook import tqdm as notebook_tqdm\n"
     ]
    }
   ],
   "source": [
    "from datasets import load_from_disk\n",
    "from transformers import pipeline\n",
    "from PIL import Image"
   ]
  },
  {
   "cell_type": "code",
   "execution_count": 3,
   "metadata": {},
   "outputs": [
    {
     "name": "stderr",
     "output_type": "stream",
     "text": [
      "Device set to use cuda:0\n"
     ]
    }
   ],
   "source": [
    "hf_dataset = load_from_disk(\"/workspaces/ASE-Model-Retrieval/data/imagenet/.cache/hf_datasets\")\n",
    "classifier = pipeline(\n",
    "    task=\"image-classification\", \n",
    "    model=\"timm/mobilenetv3_small_100.lamb_in1k\", \n",
    "    device=0  # Ensure using GPU\n",
    ")\n",
    "\n",
    "def classify_batch(batch):\n",
    "    images = [Image.open(image).convert(\"RGB\") for image in batch[\"image\"]]\n",
    "    return {\"predictions\": classifier(images)}\n",
    "\n",
    "all_results = {}"
   ]
  },
  {
   "cell_type": "code",
   "execution_count": 4,
   "metadata": {},
   "outputs": [
    {
     "name": "stdout",
     "output_type": "stream",
     "text": [
      "Running inference on subclass_EntleBucher-German_shepherd-bluetick-croquet_ball-tench with 250 images...\n",
      "Running inference on subclass_Border_terrier-Lakeland_terrier-Lhasa-Norfolk_terrier-Sussex_spaniel with 250 images...\n",
      "Running inference on subclass_Border_collie-Pomeranian-cairn-kelpie-terrapin with 250 images...\n"
     ]
    },
    {
     "name": "stderr",
     "output_type": "stream",
     "text": [
      "Map: 100%|██████████| 250/250 [00:03<00:00, 64.11 examples/s]\n"
     ]
    },
    {
     "name": "stdout",
     "output_type": "stream",
     "text": [
      "Running inference on subclass_English_foxhound-Scottie-baseball-giant_schnauzer-minibus with 250 images...\n"
     ]
    },
    {
     "name": "stderr",
     "output_type": "stream",
     "text": [
      "Map: 100%|██████████| 250/250 [00:03<00:00, 79.66 examples/s]\n"
     ]
    },
    {
     "name": "stdout",
     "output_type": "stream",
     "text": [
      "Running inference on subclass_Norwich_terrier-banana-bloodhound-kite-minivan with 250 images...\n"
     ]
    },
    {
     "name": "stderr",
     "output_type": "stream",
     "text": [
      "Map: 100%|██████████| 250/250 [00:03<00:00, 79.38 examples/s]\n"
     ]
    },
    {
     "name": "stdout",
     "output_type": "stream",
     "text": [
      "Running inference on subclass_Norwich_terrier-Scottie-dingo-minivan-red_wolf with 250 images...\n"
     ]
    },
    {
     "name": "stderr",
     "output_type": "stream",
     "text": [
      "Map: 100%|██████████| 250/250 [00:03<00:00, 71.53 examples/s]\n"
     ]
    },
    {
     "name": "stdout",
     "output_type": "stream",
     "text": [
      "Running inference on subclass_Bouvier-Hungarian_pointer-jackfruit-leopard-miniature_poodle with 250 images...\n"
     ]
    },
    {
     "name": "stderr",
     "output_type": "stream",
     "text": [
      "Map: 100%|██████████| 250/250 [00:03<00:00, 78.58 examples/s]\n"
     ]
    },
    {
     "name": "stdout",
     "output_type": "stream",
     "text": [
      "Running inference on subclass_custard_apple-flat_coated_retriever-minibus-red_wolf-sports_car with 250 images...\n"
     ]
    },
    {
     "name": "stderr",
     "output_type": "stream",
     "text": [
      "Map:   0%|          | 0/250 [00:00<?, ? examples/s]You seem to be using the pipelines sequentially on GPU. In order to maximize efficiency please use a dataset\n",
      "Map: 100%|██████████| 250/250 [00:03<00:00, 73.35 examples/s]\n"
     ]
    },
    {
     "name": "stdout",
     "output_type": "stream",
     "text": [
      "Running inference on subclass_Italian_greyhound-Labrador_retriever-Welsh_springer_spaniel-bloodhound-snow_leopard with 250 images...\n"
     ]
    },
    {
     "name": "stderr",
     "output_type": "stream",
     "text": [
      "Map: 100%|██████████| 250/250 [00:03<00:00, 73.76 examples/s]\n"
     ]
    },
    {
     "name": "stdout",
     "output_type": "stream",
     "text": [
      "Running inference on subclass_beaker-brown_bear-groenendael-keeshond-stingray with 250 images...\n"
     ]
    },
    {
     "name": "stderr",
     "output_type": "stream",
     "text": [
      "Map: 100%|██████████| 250/250 [00:03<00:00, 78.43 examples/s]\n"
     ]
    }
   ],
   "source": [
    "count = 0\n",
    "for dataset_name, dataset in hf_dataset.items():\n",
    "    if count == 10:\n",
    "        break\n",
    "    print(f\"Running inference on {dataset_name} with {len(dataset)} images...\")\n",
    "\n",
    "    # Apply batched inference using `map()`\n",
    "    results_dataset = dataset.map(classify_batch, batched=True, batch_size=128)\n",
    "\n",
    "    # Store results in dictionary\n",
    "    all_results[dataset_name] = results_dataset\n",
    "    count += 1"
   ]
  },
  {
   "cell_type": "code",
   "execution_count": 5,
   "metadata": {},
   "outputs": [
    {
     "name": "stdout",
     "output_type": "stream",
     "text": [
      "subclass_EntleBucher-German_shepherd-bluetick-croquet_ball-tench\n",
      "subclass_Border_terrier-Lakeland_terrier-Lhasa-Norfolk_terrier-Sussex_spaniel\n",
      "subclass_Border_collie-Pomeranian-cairn-kelpie-terrapin\n",
      "subclass_English_foxhound-Scottie-baseball-giant_schnauzer-minibus\n",
      "subclass_Norwich_terrier-banana-bloodhound-kite-minivan\n",
      "subclass_Norwich_terrier-Scottie-dingo-minivan-red_wolf\n",
      "subclass_Bouvier-Hungarian_pointer-jackfruit-leopard-miniature_poodle\n",
      "subclass_custard_apple-flat_coated_retriever-minibus-red_wolf-sports_car\n",
      "subclass_Italian_greyhound-Labrador_retriever-Welsh_springer_spaniel-bloodhound-snow_leopard\n",
      "subclass_beaker-brown_bear-groenendael-keeshond-stingray\n"
     ]
    }
   ],
   "source": [
    "for item in all_results:\n",
    "    print(item)"
   ]
  }
 ],
 "metadata": {
  "kernelspec": {
   "display_name": "base",
   "language": "python",
   "name": "python3"
  },
  "language_info": {
   "codemirror_mode": {
    "name": "ipython",
    "version": 3
   },
   "file_extension": ".py",
   "mimetype": "text/x-python",
   "name": "python",
   "nbconvert_exporter": "python",
   "pygments_lexer": "ipython3",
   "version": "3.11.11"
  }
 },
 "nbformat": 4,
 "nbformat_minor": 2
}
